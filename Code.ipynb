{
 "cells": [
  {
   "cell_type": "code",
   "execution_count": 299,
   "metadata": {},
   "outputs": [],
   "source": [
    "import pandas as pd\n",
    "import numpy as np\n",
    "import matplotlib.pyplot as plt\n",
    "import seaborn as sns\n",
    "import warnings\n",
    "import math\n",
    "\n",
    "warnings.filterwarnings('ignore')\n",
    "\n",
    "from sklearn.preprocessing import LabelEncoder\n",
    "from catboost import CatBoostRegressor\n",
    "from sklearn.model_selection import KFold,StratifiedKFold, TimeSeriesSplit\n",
    "from sklearn.metrics import mean_squared_error\n",
    "from sklearn.model_selection import train_test_split\n",
    "from tqdm import tqdm\n",
    "from lightgbm import LGBMRegressor\n",
    "from itertools import combinations\n",
    "from sklearn.preprocessing import PolynomialFeatures\n",
    "from sklearn.feature_extraction.text import TfidfVectorizer\n",
    "\n",
    "from tensorflow.keras.models import Sequential\n",
    "from tensorflow.keras.optimizers import RMSprop\n",
    "from tensorflow.keras.layers import Conv1D, Conv2D, MaxPooling1D, MaxPooling2D, Flatten, Dense, Reshape, Dropout, LSTM, RepeatVector, TimeDistributed"
   ]
  },
  {
   "cell_type": "code",
   "execution_count": 300,
   "metadata": {},
   "outputs": [],
   "source": [
    "train = pd.read_csv(\"Train.csv\")\n",
    "test = pd.read_csv(\"Test.csv\")\n",
    "sample_sub = pd.read_excel(\"Sample_Submission.xlsx\")"
   ]
  },
  {
   "cell_type": "code",
   "execution_count": 301,
   "metadata": {},
   "outputs": [
    {
     "data": {
      "text/html": [
       "<div>\n",
       "<style scoped>\n",
       "    .dataframe tbody tr th:only-of-type {\n",
       "        vertical-align: middle;\n",
       "    }\n",
       "\n",
       "    .dataframe tbody tr th {\n",
       "        vertical-align: top;\n",
       "    }\n",
       "\n",
       "    .dataframe thead th {\n",
       "        text-align: right;\n",
       "    }\n",
       "</style>\n",
       "<table border=\"1\" class=\"dataframe\">\n",
       "  <thead>\n",
       "    <tr style=\"text-align: right;\">\n",
       "      <th></th>\n",
       "      <th>Product</th>\n",
       "      <th>Product_Brand</th>\n",
       "      <th>Item_Category</th>\n",
       "      <th>Subcategory_1</th>\n",
       "      <th>Subcategory_2</th>\n",
       "      <th>Item_Rating</th>\n",
       "      <th>Date</th>\n",
       "      <th>Selling_Price</th>\n",
       "    </tr>\n",
       "  </thead>\n",
       "  <tbody>\n",
       "    <tr>\n",
       "      <th>0</th>\n",
       "      <td>P-2610</td>\n",
       "      <td>B-659</td>\n",
       "      <td>bags wallets belts</td>\n",
       "      <td>bags</td>\n",
       "      <td>hand bags</td>\n",
       "      <td>4.3</td>\n",
       "      <td>2/3/2017</td>\n",
       "      <td>291.0</td>\n",
       "    </tr>\n",
       "    <tr>\n",
       "      <th>1</th>\n",
       "      <td>P-2453</td>\n",
       "      <td>B-3078</td>\n",
       "      <td>clothing</td>\n",
       "      <td>women s clothing</td>\n",
       "      <td>western wear</td>\n",
       "      <td>3.1</td>\n",
       "      <td>7/1/2015</td>\n",
       "      <td>897.0</td>\n",
       "    </tr>\n",
       "    <tr>\n",
       "      <th>2</th>\n",
       "      <td>P-6802</td>\n",
       "      <td>B-1810</td>\n",
       "      <td>home decor festive needs</td>\n",
       "      <td>showpieces</td>\n",
       "      <td>ethnic</td>\n",
       "      <td>3.5</td>\n",
       "      <td>1/12/2019</td>\n",
       "      <td>792.0</td>\n",
       "    </tr>\n",
       "    <tr>\n",
       "      <th>3</th>\n",
       "      <td>P-4452</td>\n",
       "      <td>B-3078</td>\n",
       "      <td>beauty and personal care</td>\n",
       "      <td>eye care</td>\n",
       "      <td>h2o plus eye care</td>\n",
       "      <td>4.0</td>\n",
       "      <td>12/12/2014</td>\n",
       "      <td>837.0</td>\n",
       "    </tr>\n",
       "    <tr>\n",
       "      <th>4</th>\n",
       "      <td>P-8454</td>\n",
       "      <td>B-3078</td>\n",
       "      <td>clothing</td>\n",
       "      <td>men s clothing</td>\n",
       "      <td>t shirts</td>\n",
       "      <td>4.3</td>\n",
       "      <td>12/12/2013</td>\n",
       "      <td>470.0</td>\n",
       "    </tr>\n",
       "  </tbody>\n",
       "</table>\n",
       "</div>"
      ],
      "text/plain": [
       "  Product Product_Brand             Item_Category     Subcategory_1  \\\n",
       "0  P-2610         B-659        bags wallets belts              bags   \n",
       "1  P-2453        B-3078                  clothing  women s clothing   \n",
       "2  P-6802        B-1810  home decor festive needs        showpieces   \n",
       "3  P-4452        B-3078  beauty and personal care          eye care   \n",
       "4  P-8454        B-3078                  clothing    men s clothing   \n",
       "\n",
       "       Subcategory_2  Item_Rating        Date  Selling_Price  \n",
       "0          hand bags          4.3    2/3/2017          291.0  \n",
       "1       western wear          3.1    7/1/2015          897.0  \n",
       "2             ethnic          3.5   1/12/2019          792.0  \n",
       "3  h2o plus eye care          4.0  12/12/2014          837.0  \n",
       "4           t shirts          4.3  12/12/2013          470.0  "
      ]
     },
     "execution_count": 301,
     "metadata": {},
     "output_type": "execute_result"
    }
   ],
   "source": [
    "train.head()"
   ]
  },
  {
   "cell_type": "code",
   "execution_count": 302,
   "metadata": {},
   "outputs": [
    {
     "name": "stdout",
     "output_type": "stream",
     "text": [
      "Shape of train data :  (2452, 8)\n",
      "No. of Unique Product IDs :  2452\n",
      "No. of Unique Product Bands :  1010\n",
      "No. of Unique Item Categories :  75\n",
      "No. of Unique Subcategory_1 :  130\n",
      "No. of Unique Subcategory_2 :  336\n"
     ]
    }
   ],
   "source": [
    "print(\"Shape of train data : \",train.shape)\n",
    "\n",
    "print(\"No. of Unique Product IDs : \",train.Product.nunique())\n",
    "print(\"No. of Unique Product Bands : \",train.Product_Brand.nunique())\n",
    "print(\"No. of Unique Item Categories : \",train.Item_Category.nunique())\n",
    "print(\"No. of Unique Subcategory_1 : \",train.Subcategory_1.nunique())\n",
    "print(\"No. of Unique Subcategory_2 : \",train.Subcategory_2.nunique())"
   ]
  },
  {
   "cell_type": "code",
   "execution_count": 303,
   "metadata": {},
   "outputs": [],
   "source": [
    "df = pd.concat([train,test]).reset_index(drop=True)"
   ]
  },
  {
   "cell_type": "code",
   "execution_count": 304,
   "metadata": {},
   "outputs": [
    {
     "data": {
      "text/plain": [
       "Product             0\n",
       "Product_Brand       0\n",
       "Item_Category       0\n",
       "Subcategory_1       0\n",
       "Subcategory_2       0\n",
       "Item_Rating         0\n",
       "Date                0\n",
       "Selling_Price    1051\n",
       "dtype: int64"
      ]
     },
     "execution_count": 304,
     "metadata": {},
     "output_type": "execute_result"
    }
   ],
   "source": [
    "df.isnull().sum()"
   ]
  },
  {
   "cell_type": "code",
   "execution_count": 305,
   "metadata": {},
   "outputs": [],
   "source": [
    "le = LabelEncoder()\n",
    "df['Product_Brands_Label'] = le.fit_transform(df['Product_Brand'])\n",
    "df['Item_Category_Label'] = le.fit_transform(df['Item_Category'])\n",
    "df['Subcategory_1_Label'] = le.fit_transform(df['Subcategory_1'])\n",
    "df['Subcategory_2_Label'] = le.fit_transform(df['Subcategory_2'])"
   ]
  },
  {
   "cell_type": "code",
   "execution_count": 306,
   "metadata": {},
   "outputs": [],
   "source": [
    "dates = pd.to_datetime(df['Date'])\n",
    "df['day'] = dates.dt.day\n",
    "df['month'] = dates.dt.month\n",
    "df['year'] = dates.dt.year"
   ]
  },
  {
   "cell_type": "code",
   "execution_count": 307,
   "metadata": {},
   "outputs": [],
   "source": [
    "df['Date'] = pd.to_datetime(df[\"Date\"], format = \"%d/%m/%Y\", errors='coerce')"
   ]
  },
  {
   "cell_type": "code",
   "execution_count": 308,
   "metadata": {},
   "outputs": [],
   "source": [
    "basicCols = df.columns"
   ]
  },
  {
   "cell_type": "code",
   "execution_count": 309,
   "metadata": {},
   "outputs": [
    {
     "data": {
      "text/html": [
       "<div>\n",
       "<style scoped>\n",
       "    .dataframe tbody tr th:only-of-type {\n",
       "        vertical-align: middle;\n",
       "    }\n",
       "\n",
       "    .dataframe tbody tr th {\n",
       "        vertical-align: top;\n",
       "    }\n",
       "\n",
       "    .dataframe thead th {\n",
       "        text-align: right;\n",
       "    }\n",
       "</style>\n",
       "<table border=\"1\" class=\"dataframe\">\n",
       "  <thead>\n",
       "    <tr style=\"text-align: right;\">\n",
       "      <th></th>\n",
       "      <th>Product</th>\n",
       "      <th>Product_Brand</th>\n",
       "      <th>Item_Category</th>\n",
       "      <th>Subcategory_1</th>\n",
       "      <th>Subcategory_2</th>\n",
       "      <th>Item_Rating</th>\n",
       "      <th>Date</th>\n",
       "      <th>Selling_Price</th>\n",
       "      <th>Product_Brands_Label</th>\n",
       "      <th>Item_Category_Label</th>\n",
       "      <th>Subcategory_1_Label</th>\n",
       "      <th>Subcategory_2_Label</th>\n",
       "      <th>day</th>\n",
       "      <th>month</th>\n",
       "      <th>year</th>\n",
       "    </tr>\n",
       "  </thead>\n",
       "  <tbody>\n",
       "    <tr>\n",
       "      <th>0</th>\n",
       "      <td>P-2610</td>\n",
       "      <td>B-659</td>\n",
       "      <td>bags wallets belts</td>\n",
       "      <td>bags</td>\n",
       "      <td>hand bags</td>\n",
       "      <td>4.3</td>\n",
       "      <td>2017-03-02</td>\n",
       "      <td>291.0</td>\n",
       "      <td>1130</td>\n",
       "      <td>9</td>\n",
       "      <td>11</td>\n",
       "      <td>159</td>\n",
       "      <td>3</td>\n",
       "      <td>2</td>\n",
       "      <td>2017</td>\n",
       "    </tr>\n",
       "    <tr>\n",
       "      <th>1</th>\n",
       "      <td>P-2453</td>\n",
       "      <td>B-3078</td>\n",
       "      <td>clothing</td>\n",
       "      <td>women s clothing</td>\n",
       "      <td>western wear</td>\n",
       "      <td>3.1</td>\n",
       "      <td>2015-01-07</td>\n",
       "      <td>897.0</td>\n",
       "      <td>877</td>\n",
       "      <td>17</td>\n",
       "      <td>139</td>\n",
       "      <td>387</td>\n",
       "      <td>1</td>\n",
       "      <td>7</td>\n",
       "      <td>2015</td>\n",
       "    </tr>\n",
       "    <tr>\n",
       "      <th>2</th>\n",
       "      <td>P-6802</td>\n",
       "      <td>B-1810</td>\n",
       "      <td>home decor festive needs</td>\n",
       "      <td>showpieces</td>\n",
       "      <td>ethnic</td>\n",
       "      <td>3.5</td>\n",
       "      <td>2019-12-01</td>\n",
       "      <td>792.0</td>\n",
       "      <td>369</td>\n",
       "      <td>38</td>\n",
       "      <td>119</td>\n",
       "      <td>118</td>\n",
       "      <td>12</td>\n",
       "      <td>1</td>\n",
       "      <td>2019</td>\n",
       "    </tr>\n",
       "    <tr>\n",
       "      <th>3</th>\n",
       "      <td>P-4452</td>\n",
       "      <td>B-3078</td>\n",
       "      <td>beauty and personal care</td>\n",
       "      <td>eye care</td>\n",
       "      <td>h2o plus eye care</td>\n",
       "      <td>4.0</td>\n",
       "      <td>2014-12-12</td>\n",
       "      <td>837.0</td>\n",
       "      <td>877</td>\n",
       "      <td>12</td>\n",
       "      <td>40</td>\n",
       "      <td>155</td>\n",
       "      <td>12</td>\n",
       "      <td>12</td>\n",
       "      <td>2014</td>\n",
       "    </tr>\n",
       "    <tr>\n",
       "      <th>4</th>\n",
       "      <td>P-8454</td>\n",
       "      <td>B-3078</td>\n",
       "      <td>clothing</td>\n",
       "      <td>men s clothing</td>\n",
       "      <td>t shirts</td>\n",
       "      <td>4.3</td>\n",
       "      <td>2013-12-12</td>\n",
       "      <td>470.0</td>\n",
       "      <td>877</td>\n",
       "      <td>17</td>\n",
       "      <td>86</td>\n",
       "      <td>344</td>\n",
       "      <td>12</td>\n",
       "      <td>12</td>\n",
       "      <td>2013</td>\n",
       "    </tr>\n",
       "  </tbody>\n",
       "</table>\n",
       "</div>"
      ],
      "text/plain": [
       "  Product Product_Brand             Item_Category     Subcategory_1  \\\n",
       "0  P-2610         B-659        bags wallets belts              bags   \n",
       "1  P-2453        B-3078                  clothing  women s clothing   \n",
       "2  P-6802        B-1810  home decor festive needs        showpieces   \n",
       "3  P-4452        B-3078  beauty and personal care          eye care   \n",
       "4  P-8454        B-3078                  clothing    men s clothing   \n",
       "\n",
       "       Subcategory_2  Item_Rating       Date  Selling_Price  \\\n",
       "0          hand bags          4.3 2017-03-02          291.0   \n",
       "1       western wear          3.1 2015-01-07          897.0   \n",
       "2             ethnic          3.5 2019-12-01          792.0   \n",
       "3  h2o plus eye care          4.0 2014-12-12          837.0   \n",
       "4           t shirts          4.3 2013-12-12          470.0   \n",
       "\n",
       "   Product_Brands_Label  Item_Category_Label  Subcategory_1_Label  \\\n",
       "0                  1130                    9                   11   \n",
       "1                   877                   17                  139   \n",
       "2                   369                   38                  119   \n",
       "3                   877                   12                   40   \n",
       "4                   877                   17                   86   \n",
       "\n",
       "   Subcategory_2_Label  day  month  year  \n",
       "0                  159    3      2  2017  \n",
       "1                  387    1      7  2015  \n",
       "2                  118   12      1  2019  \n",
       "3                  155   12     12  2014  \n",
       "4                  344   12     12  2013  "
      ]
     },
     "execution_count": 309,
     "metadata": {},
     "output_type": "execute_result"
    }
   ],
   "source": [
    "df.head()"
   ]
  },
  {
   "cell_type": "markdown",
   "metadata": {},
   "source": [
    "# EDA"
   ]
  },
  {
   "cell_type": "code",
   "execution_count": 310,
   "metadata": {},
   "outputs": [
    {
     "data": {
      "text/plain": [
       "Item_Category_Label\n",
       "0    1\n",
       "1    1\n",
       "2    1\n",
       "3    1\n",
       "4    1\n",
       "Name: Subcategory_1_Label, dtype: int64"
      ]
     },
     "execution_count": 310,
     "metadata": {},
     "output_type": "execute_result"
    }
   ],
   "source": [
    "df.groupby('Item_Category_Label')['Subcategory_1_Label'].count().head()"
   ]
  },
  {
   "cell_type": "code",
   "execution_count": 311,
   "metadata": {},
   "outputs": [
    {
     "data": {
      "text/plain": [
       "Subcategory_1_Label\n",
       "0      4\n",
       "1     22\n",
       "2    245\n",
       "3      9\n",
       "4      1\n",
       "Name: Subcategory_2_Label, dtype: int64"
      ]
     },
     "execution_count": 311,
     "metadata": {},
     "output_type": "execute_result"
    }
   ],
   "source": [
    "df.groupby('Subcategory_1_Label')['Subcategory_2_Label'].count().head()"
   ]
  },
  {
   "cell_type": "code",
   "execution_count": 312,
   "metadata": {},
   "outputs": [
    {
     "data": {
      "text/plain": [
       "Item_Category_Label\n",
       "0    1\n",
       "1    1\n",
       "2    1\n",
       "3    1\n",
       "4    1\n",
       "Name: Product_Brands_Label, dtype: int64"
      ]
     },
     "execution_count": 312,
     "metadata": {},
     "output_type": "execute_result"
    }
   ],
   "source": [
    "df.groupby('Item_Category_Label')['Product_Brands_Label'].count().head()"
   ]
  },
  {
   "cell_type": "code",
   "execution_count": 313,
   "metadata": {},
   "outputs": [
    {
     "data": {
      "text/plain": [
       "0        NaT\n",
       "1     0 days\n",
       "2   365 days\n",
       "3     0 days\n",
       "4     0 days\n",
       "Name: Date, dtype: timedelta64[ns]"
      ]
     },
     "execution_count": 313,
     "metadata": {},
     "output_type": "execute_result"
    }
   ],
   "source": [
    "df.sort_values(by='Date').groupby('Product_Brands_Label')['Date'].diff(1).sort_index().head()"
   ]
  },
  {
   "cell_type": "code",
   "execution_count": 314,
   "metadata": {},
   "outputs": [
    {
     "data": {
      "text/plain": [
       "year\n",
       "2012    207\n",
       "2013    398\n",
       "2014    468\n",
       "2015    442\n",
       "2016    416\n",
       "Name: Product_Brands_Label, dtype: int64"
      ]
     },
     "execution_count": 314,
     "metadata": {},
     "output_type": "execute_result"
    }
   ],
   "source": [
    "df.groupby(['year'])['Product_Brands_Label'].count().head()"
   ]
  },
  {
   "cell_type": "code",
   "execution_count": 315,
   "metadata": {},
   "outputs": [
    {
     "data": {
      "text/plain": [
       "Item_Rating\n",
       "(0.0, 0.5]      0\n",
       "(0.5, 1.0]     65\n",
       "(1.0, 1.5]    412\n",
       "(1.5, 2.0]    424\n",
       "(2.0, 2.5]    385\n",
       "(2.5, 3.0]    405\n",
       "(3.0, 3.5]    435\n",
       "(3.5, 4.0]    457\n",
       "(4.0, 4.5]    451\n",
       "(4.5, 5.0]    469\n",
       "Name: Item_Rating, dtype: int64"
      ]
     },
     "execution_count": 315,
     "metadata": {},
     "output_type": "execute_result"
    }
   ],
   "source": [
    "ranges = [0,0.5,1,1.5,2,2.5,3,3.5,4,4.5,5]\n",
    "df.groupby(pd.cut(df.Item_Rating, ranges))['Item_Rating'].count()"
   ]
  },
  {
   "cell_type": "markdown",
   "metadata": {},
   "source": [
    "# Feature Engineering"
   ]
  },
  {
   "cell_type": "code",
   "execution_count": 316,
   "metadata": {},
   "outputs": [],
   "source": [
    "df['No_of_SubC1_in_ItemC'] = df['Item_Category_Label'].apply(lambda x : df.groupby('Item_Category_Label')['Subcategory_1_Label'].count()[x])"
   ]
  },
  {
   "cell_type": "code",
   "execution_count": 317,
   "metadata": {},
   "outputs": [],
   "source": [
    "df['No_of_SubC2_in_SubC1'] = df['Subcategory_1_Label'].apply(lambda x : df.groupby('Subcategory_1_Label')['Subcategory_2_Label'].count()[x])"
   ]
  },
  {
   "cell_type": "code",
   "execution_count": 318,
   "metadata": {},
   "outputs": [],
   "source": [
    "df['No_of_ProdB_in_ItemC'] = df['Item_Category_Label'].apply(lambda x : df.groupby('Item_Category_Label')['Product_Brands_Label'].count()[x])"
   ]
  },
  {
   "cell_type": "code",
   "execution_count": 319,
   "metadata": {},
   "outputs": [],
   "source": [
    "for c in ['Product_Brands_Label', 'Item_Category_Label', 'Subcategory_1_Label', 'Subcategory_2_Label']:\n",
    "    temp = df.sort_values(by='Date').groupby(c)['Date'].diff(1).sort_index()\n",
    "    df[f'next_sale_day_diff_{c}'] = temp.dt.days"
   ]
  },
  {
   "cell_type": "code",
   "execution_count": 320,
   "metadata": {},
   "outputs": [],
   "source": [
    "for i in range(1, 3):\n",
    "    df[[f'next{i}_Subcategory_1_Label', f'next{i}_Subcategory_2_Label']] = df.sort_values(by='Date').groupby('Item_Category_Label')[['Subcategory_1_Label', 'Subcategory_2_Label']].shift(-i).sort_index()"
   ]
  },
  {
   "cell_type": "code",
   "execution_count": 321,
   "metadata": {},
   "outputs": [],
   "source": [
    "for i in range(1, 3):\n",
    "    df[[f'next{i}_Subcategory_1_Label', f'next{i}_Subcategory_2_Label', f'next{i}_Product_Brands_Label']] = df.sort_values(by='Date').groupby('Item_Category_Label')[['Subcategory_1_Label', 'Subcategory_2_Label', 'Product_Brands_Label']].shift(-i).sort_index()"
   ]
  },
  {
   "cell_type": "code",
   "execution_count": 322,
   "metadata": {},
   "outputs": [],
   "source": [
    "df['ProdB_ItemRatings_CumSum'] = df.sort_values(by='Date').groupby('Product_Brands_Label')['Item_Rating'].cumsum().shift(-1).sort_index()"
   ]
  },
  {
   "cell_type": "code",
   "execution_count": 323,
   "metadata": {},
   "outputs": [],
   "source": [
    "grp = df.groupby(['Product_Brands_Label','Date']).agg({'Item_Rating': ['max', 'sum', 'mean', 'min'], 'Item_Category_Label': ['nunique','size'],\n",
    "                              'Subcategory_1_Label': ['nunique','size'], 'Subcategory_2_Label': ['nunique','size']})\n",
    "grp.columns = ['_'.join(c).strip('_') + '_Product_Brands_Label_and_Date' for c in grp.columns]\n",
    "df = pd.merge(df, grp, how = 'left', on =['Product_Brands_Label','Date'])"
   ]
  },
  {
   "cell_type": "code",
   "execution_count": 324,
   "metadata": {},
   "outputs": [],
   "source": [
    "grp = df.groupby('year').agg({'Item_Rating': ['max', 'sum', 'mean', 'min'], 'Product_Brands_Label': ['nunique' ,'size'], 'Item_Category_Label': ['nunique','size'],\n",
    "                              'Subcategory_1_Label': ['nunique','size'], 'Subcategory_2_Label': ['nunique','size']})\n",
    "grp.columns = ['_'.join(c).strip('_') + '_yearwise' for c in grp.columns]\n",
    "df = pd.merge(df, grp, how = 'left', on ='year')"
   ]
  },
  {
   "cell_type": "code",
   "execution_count": 325,
   "metadata": {},
   "outputs": [],
   "source": [
    "df['n_days_from_start'] = (df['Date'].dt.date - df['Date'].min().date()).dt.days\n",
    "df['n_days_from_end'] = (df['Date'].max().date() - df['Date'].dt.date).dt.days"
   ]
  },
  {
   "cell_type": "code",
   "execution_count": 326,
   "metadata": {},
   "outputs": [
    {
     "name": "stderr",
     "output_type": "stream",
     "text": [
      "100%|██████████| 4/4 [00:02<00:00,  1.38it/s]\n"
     ]
    }
   ],
   "source": [
    "for c in tqdm(['Product_Brands_Label', 'Item_Category_Label', 'Subcategory_1_Label', 'Subcategory_2_Label']):\n",
    "    df[f'next_sale_diff_{c}'] = df.sort_values(by='Date').groupby(c)['n_days_from_start'].apply(lambda x: x - x.shift(-1))\n",
    "    df[f'prev_sale_diff_{c}'] = df.sort_values(by='Date').groupby(c)['n_days_from_start'].apply(lambda x: x - x.shift(1))"
   ]
  },
  {
   "cell_type": "markdown",
   "metadata": {},
   "source": [
    "# Random FE"
   ]
  },
  {
   "cell_type": "code",
   "execution_count": 179,
   "metadata": {},
   "outputs": [],
   "source": [
    "for c in ['Product_Brands_Label', 'Item_Category_Label', 'Subcategory_1_Label', 'Subcategory_2_Label']:\n",
    "    temp = df.sort_values(by='Date').groupby(c)['Date'].diff(1).sort_index()\n",
    "    df[f'next_sale_day_diff_{c}'] = temp.dt.days"
   ]
  },
  {
   "cell_type": "code",
   "execution_count": 180,
   "metadata": {},
   "outputs": [],
   "source": [
    "df[['Prev_Subcategory_1_Label_Item', 'Prev_Subcategory_2_Label_Item']] = df.sort_values(by='Date').groupby('Item_Category_Label')[['Subcategory_1_Label', 'Subcategory_2_Label']].shift(1).sort_index()\n",
    "df[['Prev_Subcategory_1_Label_Brand', 'Prev_Subcategory_2_Label_Brand']] = df.sort_values(by='Date').groupby('Item_Category_Label')[['Subcategory_1_Label', 'Subcategory_2_Label']].shift(1).sort_index()"
   ]
  },
  {
   "cell_type": "code",
   "execution_count": 181,
   "metadata": {},
   "outputs": [],
   "source": [
    "for i in range(1, 6):\n",
    "    df[[f'next{i}_Subcategory_1_Label', f'next{i}_Subcategory_2_Label', f'next{i}_Product_Brands_Label']] = df.sort_values(by='Date').groupby('Item_Category_Label')[['Subcategory_1_Label', 'Subcategory_2_Label', 'Product_Brands_Label']].shift(-i).sort_index()"
   ]
  },
  {
   "cell_type": "code",
   "execution_count": 182,
   "metadata": {},
   "outputs": [],
   "source": [
    "for i in range(1, 6):\n",
    "    df[[f'next{i}_Subcategory_1_Label', f'next{i}_Subcategory_2_Label', f'next{i}_Item_Category_Label']] = df.sort_values(by='Date').groupby('Product_Brands_Label')[['Subcategory_1_Label', 'Subcategory_2_Label', 'Item_Category_Label']].shift(-i).sort_index()"
   ]
  },
  {
   "cell_type": "code",
   "execution_count": 183,
   "metadata": {},
   "outputs": [
    {
     "name": "stderr",
     "output_type": "stream",
     "text": [
      "100%|██████████| 4/4 [00:00<00:00, 71.40it/s]\n"
     ]
    }
   ],
   "source": [
    "for c in tqdm(['Product_Brands_Label', 'Item_Category_Label', 'Subcategory_1_Label', 'Subcategory_2_Label']):\n",
    "    df[f'ItemRatings_cumsum_{c}'] = df.sort_values(by='Date').groupby(c)['Item_Rating'].cumsum().shift(-1).sort_index()"
   ]
  },
  {
   "cell_type": "code",
   "execution_count": 184,
   "metadata": {},
   "outputs": [],
   "source": [
    "grp = df.groupby('year').agg({'Item_Rating': ['max', 'sum', 'mean', 'min'], 'Product_Brands_Label': ['nunique' ,'size'], 'Item_Category_Label': ['nunique','size'],\n",
    "                              'Subcategory_1_Label': ['nunique','size'], 'Subcategory_2_Label': ['nunique','size']})\n",
    "grp.columns = ['_'.join(c).strip('_') + '_yearwise' for c in grp.columns]\n",
    "df = pd.merge(df, grp, how = 'left', on ='year')"
   ]
  },
  {
   "cell_type": "code",
   "execution_count": 185,
   "metadata": {},
   "outputs": [],
   "source": [
    "grp = df.groupby(['Subcategory_1_Label','Date']).agg({'Item_Rating': ['max', 'sum', 'mean', 'min'], 'Product_Brands_Label': ['nunique' ,'size'], 'Item_Category_Label': ['nunique','size'],\n",
    "                              'Subcategory_2_Label': ['nunique','size']})\n",
    "grp.columns = ['_'.join(c).strip('_') + '_Subcategory_1_Label_and_Date' for c in grp.columns]\n",
    "df = pd.merge(df, grp, how = 'left', on =['Subcategory_1_Label','Date'])"
   ]
  },
  {
   "cell_type": "code",
   "execution_count": 186,
   "metadata": {},
   "outputs": [],
   "source": [
    "grp = df.groupby(['Subcategory_2_Label','Date']).agg({'Item_Rating': ['max', 'sum', 'mean', 'min'], 'Product_Brands_Label': ['nunique' ,'size'], 'Item_Category_Label': ['nunique','size'],\n",
    "                              'Subcategory_1_Label': ['nunique','size']})\n",
    "grp.columns = ['_'.join(c).strip('_') + '_Subcategory_2_Label_and_Date' for c in grp.columns]\n",
    "df = pd.merge(df, grp, how = 'left', on =['Subcategory_2_Label','Date'])"
   ]
  },
  {
   "cell_type": "code",
   "execution_count": 187,
   "metadata": {},
   "outputs": [],
   "source": [
    "grp = df.groupby(['Product_Brands_Label','Date']).agg({'Item_Rating': ['max', 'sum', 'mean', 'min'], 'Item_Category_Label': ['nunique','size'],\n",
    "                              'Subcategory_1_Label': ['nunique','size'], 'Subcategory_2_Label': ['nunique','size']})\n",
    "grp.columns = ['_'.join(c).strip('_') + '_Product_Brands_Label_and_Date' for c in grp.columns]\n",
    "df = pd.merge(df, grp, how = 'left', on =['Product_Brands_Label','Date'])"
   ]
  },
  {
   "cell_type": "code",
   "execution_count": 188,
   "metadata": {},
   "outputs": [],
   "source": [
    "grp = df.groupby(['Item_Category_Label','Date']).agg({'Item_Rating': ['max', 'sum', 'mean', 'min'], 'Item_Category_Label': ['nunique','size'],\n",
    "                              'Subcategory_1_Label': ['nunique','size'], 'Subcategory_2_Label': ['nunique','size']})\n",
    "grp.columns = ['_'.join(c).strip('_') + '_Item_Category_Label_and_Date' for c in grp.columns]\n",
    "df = pd.merge(df, grp, how = 'left', on =['Item_Category_Label','Date'])"
   ]
  },
  {
   "cell_type": "code",
   "execution_count": 189,
   "metadata": {},
   "outputs": [],
   "source": [
    "df[f'n_days_from_start'] = (df['Date'].dt.date - df['Date'].min().date()).dt.days\n",
    "df[f'n_weeks_from_start'] = (df['Date'].dt.date - df['Date'].min().date()).dt.days//7\n",
    "df[f'n_days_from_end'] = (df['Date'].max().date() - df['Date'].dt.date).dt.days\n",
    "df[f'n_weeks_from_end'] = (df['Date'].max().date() - df['Date'].dt.date).dt.days//7\n",
    "df[f'n_months_from_start'] = (df['Date'].dt.date - df['Date'].min().date()).dt.days//30\n",
    "df[f'n_months_from_end'] = (df['Date'].max().date() - df['Date'].dt.date).dt.days//30"
   ]
  },
  {
   "cell_type": "code",
   "execution_count": 190,
   "metadata": {},
   "outputs": [
    {
     "name": "stderr",
     "output_type": "stream",
     "text": [
      "100%|██████████| 4/4 [00:03<00:00,  1.21it/s]\n"
     ]
    }
   ],
   "source": [
    "for c in tqdm(['Product_Brands_Label', 'Item_Category_Label', 'Subcategory_1_Label', 'Subcategory_2_Label']):\n",
    "    df[f'next_sale_diff_{c}'] = df.sort_values(by='Date').groupby(c)['n_days_from_start'].apply(lambda x: x - x.shift(-1))\n",
    "    df[f'prev_sale_diff_{c}'] = df.sort_values(by='Date').groupby(c)['n_days_from_start'].apply(lambda x: x - x.shift(1))"
   ]
  },
  {
   "cell_type": "code",
   "execution_count": 191,
   "metadata": {},
   "outputs": [
    {
     "name": "stderr",
     "output_type": "stream",
     "text": [
      "100%|██████████| 4/4 [00:02<00:00,  1.37it/s]\n"
     ]
    }
   ],
   "source": [
    "for c in tqdm(['Product_Brands_Label', 'Item_Category_Label', 'Subcategory_1_Label', 'Subcategory_2_Label']):\n",
    "    df[f'next_sale_diff_{c}'] = df.sort_values(by='Date').groupby(c)['n_days_from_start'].apply(lambda x: x - x.shift(-2))\n",
    "    df[f'prev_sale_diff_{c}'] = df.sort_values(by='Date').groupby(c)['n_days_from_start'].apply(lambda x: x - x.shift(2))"
   ]
  },
  {
   "cell_type": "code",
   "execution_count": 192,
   "metadata": {},
   "outputs": [],
   "source": [
    "df[f'n_days_from_start_fid'] = df.groupby('Product_Brands_Label')['Date'].apply(lambda x: (x - x.min()).dt.days)\n",
    "df[f'n_days_from_end_fid'] = df.groupby('Product_Brands_Label')['Date'].apply(lambda x: (x.max() - x).dt.days)\n",
    "df[f'n_days_from_end_lno'] = df.groupby('Item_Category_Label')['Date'].apply(lambda x: (x.max() - x).dt.days)\n",
    "df[f'n_days_from_start_lno'] = df.groupby('Item_Category_Label')['Date'].apply(lambda x: (x-x.min()).dt.days)"
   ]
  },
  {
   "cell_type": "code",
   "execution_count": 193,
   "metadata": {},
   "outputs": [],
   "source": [
    "df[f'n_days_from_start_fn'] = df.groupby('Subcategory_1_Label')['Date'].apply(lambda x: (x - x.min()).dt.days)\n",
    "df[f'n_days_from_end_fn'] = df.groupby('Subcategory_1_Label')['Date'].apply(lambda x: (x.max() - x).dt.days)\n",
    "df[f'n_days_from_start_geoloc'] = df.groupby('Subcategory_2_Label')['Date'].apply(lambda x: (x - x.min()).dt.days)\n",
    "df[f'n_days_from_end_geoloc'] = df.groupby('Subcategory_2_Label')['Date'].apply(lambda x: (x.max() - x).dt.days)"
   ]
  },
  {
   "cell_type": "markdown",
   "metadata": {},
   "source": [
    "# Data Ready"
   ]
  },
  {
   "cell_type": "code",
   "execution_count": 327,
   "metadata": {},
   "outputs": [],
   "source": [
    "df.drop(['Product','Product_Brand','Item_Category','Subcategory_1','Subcategory_2','Date'],axis=1,inplace=True)\n",
    "df.drop(['n_days_from_start','n_days_from_end'],axis=1,inplace=True)"
   ]
  },
  {
   "cell_type": "code",
   "execution_count": 329,
   "metadata": {},
   "outputs": [
    {
     "name": "stderr",
     "output_type": "stream",
     "text": [
      "100%|██████████| 44/44 [00:00<00:00, 242.08it/s]\n"
     ]
    }
   ],
   "source": [
    "featureCols = df.columns\n",
    "featureCols = set(featureCols) - set(basicCols)\n",
    "for col in tqdm(featureCols):\n",
    "    df[f'is_{col}_null'] = df[col].apply(lambda x : 0 if math.isnan(x) else 1)"
   ]
  },
  {
   "cell_type": "code",
   "execution_count": 332,
   "metadata": {},
   "outputs": [
    {
     "name": "stdout",
     "output_type": "stream",
     "text": [
      "No of null values :  0\n"
     ]
    }
   ],
   "source": [
    "df.fillna(df.mean(),inplace=True)\n",
    "print(\"No of null values : \",df.isnull().sum().sum())"
   ]
  },
  {
   "cell_type": "code",
   "execution_count": 333,
   "metadata": {},
   "outputs": [],
   "source": [
    "X = df.loc[:train.shape[0]-1]\n",
    "test = df.loc[train.shape[0]:]\n",
    "\n",
    "y = X['Selling_Price']\n",
    "X.drop('Selling_Price',axis=1,inplace=True)\n",
    "test.drop('Selling_Price',axis=1,inplace=True)"
   ]
  },
  {
   "cell_type": "code",
   "execution_count": 334,
   "metadata": {},
   "outputs": [
    {
     "name": "stdout",
     "output_type": "stream",
     "text": [
      "Training Data Shape :  (2452, 96)\n",
      "Training Target Shape :  (2452,)\n",
      "Test Data Shape :  (1051, 96)\n"
     ]
    }
   ],
   "source": [
    "print(\"Training Data Shape : \",X.shape)\n",
    "print(\"Training Target Shape : \",y.shape)\n",
    "print(\"Test Data Shape : \",test.shape)"
   ]
  },
  {
   "cell_type": "code",
   "execution_count": 335,
   "metadata": {},
   "outputs": [],
   "source": [
    "X_train, X_val, y_train, y_val = train_test_split(X, y, test_size=0.25, random_state=42)"
   ]
  },
  {
   "cell_type": "markdown",
   "metadata": {},
   "source": [
    "# Train Model"
   ]
  },
  {
   "cell_type": "markdown",
   "metadata": {},
   "source": [
    "### CatBoost"
   ]
  },
  {
   "cell_type": "code",
   "execution_count": 230,
   "metadata": {},
   "outputs": [],
   "source": [
    "# errcb2=[]\n",
    "# y_pred_totcb2=[]\n",
    "# fold=KFold(n_splits=6)\n",
    "# epoch = 1\n",
    "# for train_index, test_index in fold.split(X,y):\n",
    "#     print(\"Epoch : \",epoch)\n",
    "#     X_train, X_test = X.iloc[train_index], X.iloc[test_index]\n",
    "#     y_train, y_test = y.iloc[train_index], y.iloc[test_index]\n",
    "#     model = CatBoostRegressor(n_estimators=3000,eval_metric='RMSE',\n",
    "#                             learning_rate=0.01, random_seed= 42, \n",
    "#                             use_best_model=True )\n",
    "#     model.fit(X_train,y_train,eval_set=[(X_train,y_train),(X_test, y_test)], \n",
    "#            early_stopping_rounds=200,verbose=100)\n",
    "#     preds=model.predict(X_test)\n",
    "#     print(\"err: \",np.sqrt(mean_squared_error(y_test,preds)))\n",
    "#     errcb2.append(np.sqrt(mean_squared_error(y_test,preds)))\n",
    "#     p2 = model.predict(test)\n",
    "#     y_pred_totcb2.append(p2)\n",
    "#     epoch += 1\n",
    "# np.mean(errcb2)"
   ]
  },
  {
   "cell_type": "code",
   "execution_count": 199,
   "metadata": {},
   "outputs": [],
   "source": [
    "# model = CatBoostRegressor(n_estimators=3000,eval_metric='RMSE',\n",
    "#                         learning_rate=0.005, random_seed= 42, \n",
    "#                         use_best_model=True )\n",
    "# model.fit(X_train,y_train,eval_set=[(X_train,y_train),(X_val, y_val)], \n",
    "#        early_stopping_rounds=200,verbose=100)\n",
    "# preds_val = model.predict(X_val)\n",
    "# print(\"err: \",np.sqrt(mean_squared_error(y_val,preds_val)))"
   ]
  },
  {
   "cell_type": "markdown",
   "metadata": {},
   "source": [
    "### LGBM"
   ]
  },
  {
   "cell_type": "code",
   "execution_count": 231,
   "metadata": {},
   "outputs": [
    {
     "name": "stdout",
     "output_type": "stream",
     "text": [
      "Training until validation scores don't improve for 200 rounds\n",
      "[100]\ttraining's l2: 9.23445e+06\tvalid_1's l2: 1.03168e+07\n",
      "[200]\ttraining's l2: 6.37889e+06\tvalid_1's l2: 7.81774e+06\n",
      "[300]\ttraining's l2: 5.06785e+06\tvalid_1's l2: 6.6363e+06\n",
      "[400]\ttraining's l2: 4.21175e+06\tvalid_1's l2: 5.81808e+06\n",
      "[500]\ttraining's l2: 3.57563e+06\tvalid_1's l2: 5.16544e+06\n",
      "[600]\ttraining's l2: 3.10117e+06\tvalid_1's l2: 4.72428e+06\n",
      "[700]\ttraining's l2: 2.69732e+06\tvalid_1's l2: 4.29619e+06\n",
      "[800]\ttraining's l2: 2.33515e+06\tvalid_1's l2: 3.90085e+06\n",
      "[900]\ttraining's l2: 2.00284e+06\tvalid_1's l2: 3.55809e+06\n",
      "[1000]\ttraining's l2: 1.72357e+06\tvalid_1's l2: 3.24911e+06\n",
      "[1100]\ttraining's l2: 1.48936e+06\tvalid_1's l2: 3.02516e+06\n",
      "[1200]\ttraining's l2: 1.29958e+06\tvalid_1's l2: 2.83304e+06\n",
      "[1300]\ttraining's l2: 1.14287e+06\tvalid_1's l2: 2.68497e+06\n",
      "[1400]\ttraining's l2: 1.02185e+06\tvalid_1's l2: 2.5619e+06\n",
      "[1500]\ttraining's l2: 918581\tvalid_1's l2: 2.45486e+06\n",
      "[1600]\ttraining's l2: 829480\tvalid_1's l2: 2.3624e+06\n",
      "[1700]\ttraining's l2: 753799\tvalid_1's l2: 2.29739e+06\n",
      "[1800]\ttraining's l2: 693310\tvalid_1's l2: 2.24507e+06\n",
      "[1900]\ttraining's l2: 639670\tvalid_1's l2: 2.21516e+06\n",
      "[2000]\ttraining's l2: 594320\tvalid_1's l2: 2.18303e+06\n",
      "[2100]\ttraining's l2: 553696\tvalid_1's l2: 2.16448e+06\n",
      "[2200]\ttraining's l2: 515148\tvalid_1's l2: 2.12306e+06\n",
      "[2300]\ttraining's l2: 482413\tvalid_1's l2: 2.08935e+06\n",
      "[2400]\ttraining's l2: 451618\tvalid_1's l2: 2.06353e+06\n",
      "[2500]\ttraining's l2: 425257\tvalid_1's l2: 2.04187e+06\n",
      "[2600]\ttraining's l2: 401103\tvalid_1's l2: 2.02722e+06\n",
      "[2700]\ttraining's l2: 376818\tvalid_1's l2: 2.00607e+06\n",
      "[2800]\ttraining's l2: 356220\tvalid_1's l2: 1.98525e+06\n",
      "[2900]\ttraining's l2: 335739\tvalid_1's l2: 1.96742e+06\n",
      "[3000]\ttraining's l2: 319069\tvalid_1's l2: 1.96328e+06\n",
      "Did not meet early stopping. Best iteration is:\n",
      "[3000]\ttraining's l2: 319069\tvalid_1's l2: 1.96328e+06\n",
      "RMSE of the Model: 1401.1693645641396\n"
     ]
    }
   ],
   "source": [
    "model = LGBMRegressor(learning_rate=0.03, colsample_bytree=0.8, reg_alpha=8, reg_lambda=9, max_depth=-1, n_estimators=3000, min_child_samples=15, num_leaves=127)\n",
    "model.fit(X_train, y_train, eval_set=[(X_train, y_train), (X_val, y_val)], verbose=100, early_stopping_rounds=200)\n",
    "predictions_val_lgb = model.predict(X_val)\n",
    "print(f\"RMSE of the Model: {np.sqrt(mean_squared_error(y_val, predictions_val_lgb))}\")"
   ]
  },
  {
   "cell_type": "markdown",
   "metadata": {},
   "source": [
    "### CNN"
   ]
  },
  {
   "cell_type": "code",
   "execution_count": 343,
   "metadata": {},
   "outputs": [
    {
     "name": "stdout",
     "output_type": "stream",
     "text": [
      "Train on 1839 samples, validate on 613 samples\n",
      "Epoch 1/45\n",
      "1839/1839 [==============================] - 1s 780us/sample - loss: 53050590.6651 - mean_squared_logarithmic_error: 2.7499 - val_loss: 39937046.3322 - val_mean_squared_logarithmic_error: 1.8974\n",
      "Epoch 2/45\n",
      "1839/1839 [==============================] - 1s 605us/sample - loss: 45745416.5519 - mean_squared_logarithmic_error: 2.7453 - val_loss: 31544054.9543 - val_mean_squared_logarithmic_error: 2.9116\n",
      "Epoch 3/45\n",
      "1839/1839 [==============================] - 1s 649us/sample - loss: 36206719.5704 - mean_squared_logarithmic_error: 4.8313 - val_loss: 26400037.4723 - val_mean_squared_logarithmic_error: 1.4609\n",
      "Epoch 4/45\n",
      "1839/1839 [==============================] - 1s 677us/sample - loss: 32045345.2603 - mean_squared_logarithmic_error: 3.6251 - val_loss: 26194065.9241 - val_mean_squared_logarithmic_error: 1.4309\n",
      "Epoch 5/45\n",
      "1839/1839 [==============================] - 1s 712us/sample - loss: 31108279.9173 - mean_squared_logarithmic_error: 3.3439 - val_loss: 24488788.4963 - val_mean_squared_logarithmic_error: 1.6607\n",
      "Epoch 6/45\n",
      "1839/1839 [==============================] - 1s 722us/sample - loss: 28903435.4740 - mean_squared_logarithmic_error: 3.2119 - val_loss: 22351456.3454 - val_mean_squared_logarithmic_error: 1.4813\n",
      "Epoch 7/45\n",
      "1839/1839 [==============================] - 1s 643us/sample - loss: 28313838.6455 - mean_squared_logarithmic_error: 3.2187 - val_loss: 20796685.1228 - val_mean_squared_logarithmic_error: 1.4738\n",
      "Epoch 8/45\n",
      "1839/1839 [==============================] - 1s 726us/sample - loss: 28485634.6283 - mean_squared_logarithmic_error: 2.6156 - val_loss: 20587455.1766 - val_mean_squared_logarithmic_error: 1.5885\n",
      "Epoch 9/45\n",
      "1839/1839 [==============================] - 1s 732us/sample - loss: 27803854.4009 - mean_squared_logarithmic_error: 2.1849 - val_loss: 21079099.6044 - val_mean_squared_logarithmic_error: 1.2763\n",
      "Epoch 10/45\n",
      "1839/1839 [==============================] - 1s 608us/sample - loss: 26090896.1663 - mean_squared_logarithmic_error: 2.0055 - val_loss: 25628124.5875 - val_mean_squared_logarithmic_error: 3.3511\n",
      "Epoch 11/45\n",
      "1839/1839 [==============================] - 1s 785us/sample - loss: 24782410.5490 - mean_squared_logarithmic_error: 1.9227 - val_loss: 18877103.3691 - val_mean_squared_logarithmic_error: 1.2958\n",
      "Epoch 12/45\n",
      "1839/1839 [==============================] - 1s 686us/sample - loss: 23957584.8597 - mean_squared_logarithmic_error: 1.4830 - val_loss: 22450738.8087 - val_mean_squared_logarithmic_error: 1.0524\n",
      "Epoch 13/45\n",
      "1839/1839 [==============================] - 1s 669us/sample - loss: 23288271.4256 - mean_squared_logarithmic_error: 1.3833 - val_loss: 18422772.2402 - val_mean_squared_logarithmic_error: 1.2883\n",
      "Epoch 14/45\n",
      "1839/1839 [==============================] - 1s 665us/sample - loss: 24337672.4475 - mean_squared_logarithmic_error: 1.6892 - val_loss: 17844852.1790 - val_mean_squared_logarithmic_error: 1.2666\n",
      "Epoch 15/45\n",
      "1839/1839 [==============================] - 1s 682us/sample - loss: 22541036.3203 - mean_squared_logarithmic_error: 1.4920 - val_loss: 19079999.3601 - val_mean_squared_logarithmic_error: 1.0998\n",
      "Epoch 16/45\n",
      "1839/1839 [==============================] - 1s 621us/sample - loss: 22476655.6022 - mean_squared_logarithmic_error: 1.4441 - val_loss: 19138824.6540 - val_mean_squared_logarithmic_error: 1.2682\n",
      "Epoch 17/45\n",
      "1839/1839 [==============================] - 1s 626us/sample - loss: 22883034.1564 - mean_squared_logarithmic_error: 1.3165 - val_loss: 19676993.2028 - val_mean_squared_logarithmic_error: 1.1350\n",
      "Epoch 18/45\n",
      "1839/1839 [==============================] - 1s 634us/sample - loss: 22436187.4655 - mean_squared_logarithmic_error: 1.3572 - val_loss: 17765319.7363 - val_mean_squared_logarithmic_error: 1.1213\n",
      "Epoch 19/45\n",
      "1839/1839 [==============================] - 1s 638us/sample - loss: 22401688.9547 - mean_squared_logarithmic_error: 1.4678 - val_loss: 25585740.2241 - val_mean_squared_logarithmic_error: 1.4466\n",
      "Epoch 20/45\n",
      "1839/1839 [==============================] - 1s 619us/sample - loss: 21734255.8430 - mean_squared_logarithmic_error: 1.5323 - val_loss: 17648178.3903 - val_mean_squared_logarithmic_error: 1.0787\n",
      "Epoch 21/45\n",
      "1839/1839 [==============================] - 1s 624us/sample - loss: 21506417.3076 - mean_squared_logarithmic_error: 1.1437 - val_loss: 18063329.4003 - val_mean_squared_logarithmic_error: 1.2434\n",
      "Epoch 22/45\n",
      "1839/1839 [==============================] - 1s 630us/sample - loss: 22264731.0237 - mean_squared_logarithmic_error: 1.2384 - val_loss: 17110185.4934 - val_mean_squared_logarithmic_error: 1.1240\n",
      "Epoch 23/45\n",
      "1839/1839 [==============================] - 1s 619us/sample - loss: 20987675.0029 - mean_squared_logarithmic_error: 1.3724 - val_loss: 20549240.0256 - val_mean_squared_logarithmic_error: 1.2093\n",
      "Epoch 24/45\n",
      "1839/1839 [==============================] - 1s 626us/sample - loss: 22383657.0122 - mean_squared_logarithmic_error: 1.4124 - val_loss: 18138121.0175 - val_mean_squared_logarithmic_error: 0.9999\n",
      "Epoch 25/45\n",
      "1839/1839 [==============================] - 1s 632us/sample - loss: 20173863.1293 - mean_squared_logarithmic_error: 1.2273 - val_loss: 17044833.0082 - val_mean_squared_logarithmic_error: 1.1258\n",
      "Epoch 26/45\n",
      "1839/1839 [==============================] - 1s 608us/sample - loss: 19967113.5629 - mean_squared_logarithmic_error: 1.7293 - val_loss: 17179885.8268 - val_mean_squared_logarithmic_error: 3.2629\n",
      "Epoch 27/45\n",
      "1839/1839 [==============================] - 1s 628us/sample - loss: 20843391.8705 - mean_squared_logarithmic_error: 1.5998 - val_loss: 17091934.9625 - val_mean_squared_logarithmic_error: 1.3104\n",
      "Epoch 28/45\n",
      "1839/1839 [==============================] - 1s 623us/sample - loss: 19929758.1501 - mean_squared_logarithmic_error: 1.4442 - val_loss: 17037220.9490 - val_mean_squared_logarithmic_error: 2.0490\n",
      "Epoch 29/45\n",
      "1839/1839 [==============================] - 1s 619us/sample - loss: 19309335.2539 - mean_squared_logarithmic_error: 1.4755 - val_loss: 17536368.1593 - val_mean_squared_logarithmic_error: 1.0261\n",
      "Epoch 30/45\n",
      "1839/1839 [==============================] - 1s 622us/sample - loss: 19827513.9526 - mean_squared_logarithmic_error: 1.3104 - val_loss: 17437433.7247 - val_mean_squared_logarithmic_error: 1.1784\n",
      "Epoch 31/45\n",
      "1839/1839 [==============================] - 1s 642us/sample - loss: 20078942.8101 - mean_squared_logarithmic_error: 1.2810 - val_loss: 16851499.6075 - val_mean_squared_logarithmic_error: 1.2246\n",
      "Epoch 32/45\n",
      "1839/1839 [==============================] - 1s 625us/sample - loss: 19579423.3098 - mean_squared_logarithmic_error: 1.6631 - val_loss: 17356514.4768 - val_mean_squared_logarithmic_error: 1.0244\n",
      "Epoch 33/45\n",
      "1839/1839 [==============================] - 1s 640us/sample - loss: 19510173.0826 - mean_squared_logarithmic_error: 1.5728 - val_loss: 17455262.1203 - val_mean_squared_logarithmic_error: 1.3513\n",
      "Epoch 34/45\n",
      "1839/1839 [==============================] - 1s 657us/sample - loss: 19409451.8559 - mean_squared_logarithmic_error: 1.5840 - val_loss: 16981470.1407 - val_mean_squared_logarithmic_error: 1.1307\n",
      "Epoch 35/45\n",
      "1839/1839 [==============================] - 1s 645us/sample - loss: 18725853.9597 - mean_squared_logarithmic_error: 1.5800 - val_loss: 17719286.1032 - val_mean_squared_logarithmic_error: 1.1792\n",
      "Epoch 36/45\n",
      "1839/1839 [==============================] - 1s 625us/sample - loss: 18646815.0448 - mean_squared_logarithmic_error: 1.8562 - val_loss: 18230051.4971 - val_mean_squared_logarithmic_error: 5.5511\n",
      "Epoch 37/45\n",
      "1839/1839 [==============================] - 1s 624us/sample - loss: 18816242.4360 - mean_squared_logarithmic_error: 1.5038 - val_loss: 16994548.3250 - val_mean_squared_logarithmic_error: 1.3834\n",
      "Epoch 38/45\n",
      "1839/1839 [==============================] - 1s 636us/sample - loss: 18087855.8856 - mean_squared_logarithmic_error: 1.5751 - val_loss: 20126594.9865 - val_mean_squared_logarithmic_error: 1.6268\n",
      "Epoch 39/45\n",
      "1839/1839 [==============================] - 1s 643us/sample - loss: 18574122.2589 - mean_squared_logarithmic_error: 1.5554 - val_loss: 18185305.9596 - val_mean_squared_logarithmic_error: 1.6086\n",
      "Epoch 40/45\n"
     ]
    },
    {
     "name": "stdout",
     "output_type": "stream",
     "text": [
      "1839/1839 [==============================] - 1s 622us/sample - loss: 18262008.8875 - mean_squared_logarithmic_error: 1.4000 - val_loss: 17944965.2953 - val_mean_squared_logarithmic_error: 1.6054\n",
      "Epoch 41/45\n",
      "1839/1839 [==============================] - 1s 636us/sample - loss: 17739192.0588 - mean_squared_logarithmic_error: 1.6296 - val_loss: 16736751.5814 - val_mean_squared_logarithmic_error: 1.1767\n",
      "Epoch 42/45\n",
      "1839/1839 [==============================] - 1s 635us/sample - loss: 17620212.1468 - mean_squared_logarithmic_error: 1.3444 - val_loss: 17137897.5734 - val_mean_squared_logarithmic_error: 1.4076\n",
      "Epoch 43/45\n",
      "1839/1839 [==============================] - 1s 631us/sample - loss: 17594309.8416 - mean_squared_logarithmic_error: 1.5937 - val_loss: 17847213.4604 - val_mean_squared_logarithmic_error: 2.5689\n",
      "Epoch 44/45\n",
      "1839/1839 [==============================] - 1s 623us/sample - loss: 18141813.6260 - mean_squared_logarithmic_error: 1.5977 - val_loss: 16549224.0982 - val_mean_squared_logarithmic_error: 1.5053\n",
      "Epoch 45/45\n",
      "1839/1839 [==============================] - 1s 647us/sample - loss: 17352133.2591 - mean_squared_logarithmic_error: 1.9428 - val_loss: 17046688.4862 - val_mean_squared_logarithmic_error: 2.4471\n"
     ]
    }
   ],
   "source": [
    "model = Sequential()\n",
    "model.add(Reshape((X_train.shape[1],1)))\n",
    "model.add(Conv1D(filters = 32, kernel_size = 3,padding = 'Same',\n",
    "             activation ='relu', input_shape = (X_train.shape[1],1)))\n",
    "model.add(Conv1D(filters = 64, kernel_size = 3,padding = 'Same',\n",
    "             activation ='relu'))\n",
    "model.add(Flatten())\n",
    "model.add(Dense (100, activation='relu'))\n",
    "model.add(Dropout(0.1))\n",
    "model.add(Dense (10, activation='relu'))\n",
    "model.add(Dense (1, activation='linear'))\n",
    "model.compile(loss='mean_squared_error', optimizer='adam',\n",
    "              metrics=['msle'])\n",
    "\n",
    "CNNModel = model.fit(np.array(X_train), np.array(y_train), epochs=45, \n",
    "                     batch_size=20, validation_data=(np.array(X_val),np.array(y_val)))"
   ]
  },
  {
   "cell_type": "markdown",
   "metadata": {},
   "source": [
    "# Visualize Model"
   ]
  },
  {
   "cell_type": "code",
   "execution_count": 345,
   "metadata": {},
   "outputs": [
    {
     "name": "stdout",
     "output_type": "stream",
     "text": [
      "dict_keys(['loss', 'mean_squared_logarithmic_error', 'val_loss', 'val_mean_squared_logarithmic_error'])\n"
     ]
    },
    {
     "data": {
      "image/png": "[encoded data removed]",
      "text/plain": [
       "<Figure size 432x288 with 1 Axes>"
      ]
     },
     "metadata": {
      "needs_background": "light"
     },
     "output_type": "display_data"
    },
    {
     "data": {
      "image/png": "[encoded data removed]",
      "text/plain": [
       "<Figure size 432x288 with 1 Axes>"
      ]
     },
     "metadata": {
      "needs_background": "light"
     },
     "output_type": "display_data"
    }
   ],
   "source": [
    "print(CNNModel.history.keys())\n",
    "\n",
    "plt.plot(CNNModel.history['mean_squared_logarithmic_error'])\n",
    "plt.plot(CNNModel.history['val_mean_squared_logarithmic_error'])\n",
    "plt.title('model mean_squared_logarithmic_error')\n",
    "plt.ylabel('mean_squared_error')\n",
    "plt.xlabel('epoch')\n",
    "plt.legend(['train', 'test'], loc='upper left')\n",
    "plt.show()\n",
    "# summarize history for loss\n",
    "plt.plot(CNNModel.history['loss'])\n",
    "plt.plot(CNNModel.history['val_loss'])\n",
    "plt.title('model loss')\n",
    "plt.ylabel('loss')\n",
    "plt.xlabel('epoch')\n",
    "plt.legend(['train', 'test'], loc='upper left')\n",
    "plt.show()"
   ]
  },
  {
   "cell_type": "markdown",
   "metadata": {},
   "source": [
    "# Predict"
   ]
  },
  {
   "cell_type": "code",
   "execution_count": 346,
   "metadata": {},
   "outputs": [],
   "source": [
    "preds = model.predict(test)"
   ]
  },
  {
   "cell_type": "markdown",
   "metadata": {},
   "source": [
    "# Submit"
   ]
  },
  {
   "cell_type": "code",
   "execution_count": 347,
   "metadata": {},
   "outputs": [],
   "source": [
    "sub = sample_sub.copy()\n",
    "sub['Selling_Price'] = np.clip(preds,0,100000)\n",
    "sub.to_excel(\"submission_CNN_2.xlsx\",index=False)"
   ]
  },
  {
   "cell_type": "code",
   "execution_count": null,
   "metadata": {},
   "outputs": [],
   "source": []
  }
 ],
 "metadata": {
  "kernelspec": {
   "display_name": "Python 3",
   "language": "python",
   "name": "python3"
  },
  "language_info": {
   "codemirror_mode": {
    "name": "ipython",
    "version": 3
   },
   "file_extension": ".py",
   "mimetype": "text/x-python",
   "name": "python",
   "nbconvert_exporter": "python",
   "pygments_lexer": "ipython3",
   "version": "3.6.9"
  }
 },
 "nbformat": 4,
 "nbformat_minor": 2
}
